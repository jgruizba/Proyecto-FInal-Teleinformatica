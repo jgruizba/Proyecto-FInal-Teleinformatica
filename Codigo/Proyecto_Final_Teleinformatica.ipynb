{
  "nbformat": 4,
  "nbformat_minor": 0,
  "metadata": {
    "colab": {
      "name": "Proyecto Final Teleinformatica.ipynb",
      "provenance": [],
      "collapsed_sections": []
    },
    "kernelspec": {
      "name": "python3",
      "display_name": "Python 3"
    },
    "language_info": {
      "name": "python"
    }
  },
  "cells": [
    {
      "cell_type": "code",
      "execution_count": null,
      "metadata": {
        "id": "YoBRQw1msHE_",
        "colab": {
          "base_uri": "https://localhost:8080/"
        },
        "outputId": "67c5694c-dcf9-46bb-8ac7-749a343a9991"
      },
      "outputs": [
        {
          "output_type": "stream",
          "name": "stdout",
          "text": [
            "Mounted at /content/drive\n"
          ]
        }
      ],
      "source": [
        "from google.colab import drive\n",
        "drive.mount('/content/drive')"
      ]
    },
    {
      "cell_type": "code",
      "source": [
        "import pandas as pd\n",
        "import seaborn as sb\n",
        "import matplotlib.pyplot as plt\n",
        "import functools\n",
        "from sklearn.model_selection import train_test_split\n",
        "from sklearn.preprocessing import MinMaxScaler\n",
        "from sklearn.neighbors import KNeighborsClassifier\n",
        "from sklearn.metrics import classification_report\n",
        "from sklearn.metrics import confusion_matrix\n",
        "from sklearn.cluster import KMeans\n",
        "from mpl_toolkits.mplot3d import Axes3D\n",
        "from keras.models import Sequential\n",
        "from keras.layers.core import Dense"
      ],
      "metadata": {
        "id": "JefsFu5aiaIA"
      },
      "execution_count": null,
      "outputs": []
    },
    {
      "cell_type": "code",
      "source": [
        "df = pd.read_csv('/content/drive/MyDrive/Tele/Final/SB11_20172.TXT', sep='¬', engine='python')"
      ],
      "metadata": {
        "id": "aI6k_JOQD5om"
      },
      "execution_count": null,
      "outputs": []
    },
    {
      "cell_type": "code",
      "source": [
        "df.head()"
      ],
      "metadata": {
        "id": "4pgAnLwWkCJQ",
        "colab": {
          "base_uri": "https://localhost:8080/",
          "height": 300
        },
        "outputId": "b11a6c55-2d5e-4eaf-a3b6-113eeeedd671"
      },
      "execution_count": null,
      "outputs": [
        {
          "output_type": "execute_result",
          "data": {
            "text/plain": [
              "  ESTU_TIPODOCUMENTO ESTU_NACIONALIDAD ESTU_GENERO ESTU_FECHANACIMIENTO  \\\n",
              "0                 TI          COLOMBIA           M           22/11/1999   \n",
              "1                 TI          COLOMBIA           F           23/10/2000   \n",
              "2                 CC          COLOMBIA           M           01/11/2000   \n",
              "3                 TI          COLOMBIA           M           16/08/1999   \n",
              "4                 TI          COLOMBIA           F           21/01/2001   \n",
              "\n",
              "   PERIODO  ESTU_CONSECUTIVO ESTU_ESTUDIANTE ESTU_PAIS_RESIDE ESTU_TIENEETNIA  \\\n",
              "0    20172  SB11201720375526      ESTUDIANTE         COLOMBIA              No   \n",
              "1    20172  SB11201720374975      ESTUDIANTE         COLOMBIA              No   \n",
              "2    20172  SB11201720375021      ESTUDIANTE         COLOMBIA              No   \n",
              "3    20172  SB11201720374725      ESTUDIANTE         COLOMBIA              No   \n",
              "4    20172  SB11201720412450      ESTUDIANTE         COLOMBIA              No   \n",
              "\n",
              "  ESTU_ETNIA  ... PUNT_INGLES  PERCENTIL_INGLES DESEMP_INGLES  PUNT_GLOBAL  \\\n",
              "0        NaN  ...          49                55            A1          278   \n",
              "1        NaN  ...          58                79            A2          287   \n",
              "2        NaN  ...          40                20            A-          244   \n",
              "3        NaN  ...          35                 8            A-          187   \n",
              "4        NaN  ...          55                73            A1          232   \n",
              "\n",
              "  PERCENTIL_GLOBAL ESTU_INSE_INDIVIDUAL ESTU_NSE_INDIVIDUAL  \\\n",
              "0               68            52.569676                NSE3   \n",
              "1               73            42.479776                NSE2   \n",
              "2               43            54.310264                NSE3   \n",
              "3                7            48.012666                NSE2   \n",
              "4               35            45.256781                NSE2   \n",
              "\n",
              "  ESTU_NSE_ESTABLECIMIENTO ESTU_ESTADOINVESTIGACION ESTU_PILOPAGA  \n",
              "0                      2.0                 PUBLICAR            NO  \n",
              "1                      2.0                 PUBLICAR            NO  \n",
              "2                      2.0                 PUBLICAR            NO  \n",
              "3                      2.0                 PUBLICAR            NO  \n",
              "4                      2.0                 PUBLICAR            NO  \n",
              "\n",
              "[5 rows x 82 columns]"
            ],
            "text/html": [
              "\n",
              "  <div id=\"df-15318766-046f-4628-95ff-c493bcc39395\">\n",
              "    <div class=\"colab-df-container\">\n",
              "      <div>\n",
              "<style scoped>\n",
              "    .dataframe tbody tr th:only-of-type {\n",
              "        vertical-align: middle;\n",
              "    }\n",
              "\n",
              "    .dataframe tbody tr th {\n",
              "        vertical-align: top;\n",
              "    }\n",
              "\n",
              "    .dataframe thead th {\n",
              "        text-align: right;\n",
              "    }\n",
              "</style>\n",
              "<table border=\"1\" class=\"dataframe\">\n",
              "  <thead>\n",
              "    <tr style=\"text-align: right;\">\n",
              "      <th></th>\n",
              "      <th>ESTU_TIPODOCUMENTO</th>\n",
              "      <th>ESTU_NACIONALIDAD</th>\n",
              "      <th>ESTU_GENERO</th>\n",
              "      <th>ESTU_FECHANACIMIENTO</th>\n",
              "      <th>PERIODO</th>\n",
              "      <th>ESTU_CONSECUTIVO</th>\n",
              "      <th>ESTU_ESTUDIANTE</th>\n",
              "      <th>ESTU_PAIS_RESIDE</th>\n",
              "      <th>ESTU_TIENEETNIA</th>\n",
              "      <th>ESTU_ETNIA</th>\n",
              "      <th>...</th>\n",
              "      <th>PUNT_INGLES</th>\n",
              "      <th>PERCENTIL_INGLES</th>\n",
              "      <th>DESEMP_INGLES</th>\n",
              "      <th>PUNT_GLOBAL</th>\n",
              "      <th>PERCENTIL_GLOBAL</th>\n",
              "      <th>ESTU_INSE_INDIVIDUAL</th>\n",
              "      <th>ESTU_NSE_INDIVIDUAL</th>\n",
              "      <th>ESTU_NSE_ESTABLECIMIENTO</th>\n",
              "      <th>ESTU_ESTADOINVESTIGACION</th>\n",
              "      <th>ESTU_PILOPAGA</th>\n",
              "    </tr>\n",
              "  </thead>\n",
              "  <tbody>\n",
              "    <tr>\n",
              "      <th>0</th>\n",
              "      <td>TI</td>\n",
              "      <td>COLOMBIA</td>\n",
              "      <td>M</td>\n",
              "      <td>22/11/1999</td>\n",
              "      <td>20172</td>\n",
              "      <td>SB11201720375526</td>\n",
              "      <td>ESTUDIANTE</td>\n",
              "      <td>COLOMBIA</td>\n",
              "      <td>No</td>\n",
              "      <td>NaN</td>\n",
              "      <td>...</td>\n",
              "      <td>49</td>\n",
              "      <td>55</td>\n",
              "      <td>A1</td>\n",
              "      <td>278</td>\n",
              "      <td>68</td>\n",
              "      <td>52.569676</td>\n",
              "      <td>NSE3</td>\n",
              "      <td>2.0</td>\n",
              "      <td>PUBLICAR</td>\n",
              "      <td>NO</td>\n",
              "    </tr>\n",
              "    <tr>\n",
              "      <th>1</th>\n",
              "      <td>TI</td>\n",
              "      <td>COLOMBIA</td>\n",
              "      <td>F</td>\n",
              "      <td>23/10/2000</td>\n",
              "      <td>20172</td>\n",
              "      <td>SB11201720374975</td>\n",
              "      <td>ESTUDIANTE</td>\n",
              "      <td>COLOMBIA</td>\n",
              "      <td>No</td>\n",
              "      <td>NaN</td>\n",
              "      <td>...</td>\n",
              "      <td>58</td>\n",
              "      <td>79</td>\n",
              "      <td>A2</td>\n",
              "      <td>287</td>\n",
              "      <td>73</td>\n",
              "      <td>42.479776</td>\n",
              "      <td>NSE2</td>\n",
              "      <td>2.0</td>\n",
              "      <td>PUBLICAR</td>\n",
              "      <td>NO</td>\n",
              "    </tr>\n",
              "    <tr>\n",
              "      <th>2</th>\n",
              "      <td>CC</td>\n",
              "      <td>COLOMBIA</td>\n",
              "      <td>M</td>\n",
              "      <td>01/11/2000</td>\n",
              "      <td>20172</td>\n",
              "      <td>SB11201720375021</td>\n",
              "      <td>ESTUDIANTE</td>\n",
              "      <td>COLOMBIA</td>\n",
              "      <td>No</td>\n",
              "      <td>NaN</td>\n",
              "      <td>...</td>\n",
              "      <td>40</td>\n",
              "      <td>20</td>\n",
              "      <td>A-</td>\n",
              "      <td>244</td>\n",
              "      <td>43</td>\n",
              "      <td>54.310264</td>\n",
              "      <td>NSE3</td>\n",
              "      <td>2.0</td>\n",
              "      <td>PUBLICAR</td>\n",
              "      <td>NO</td>\n",
              "    </tr>\n",
              "    <tr>\n",
              "      <th>3</th>\n",
              "      <td>TI</td>\n",
              "      <td>COLOMBIA</td>\n",
              "      <td>M</td>\n",
              "      <td>16/08/1999</td>\n",
              "      <td>20172</td>\n",
              "      <td>SB11201720374725</td>\n",
              "      <td>ESTUDIANTE</td>\n",
              "      <td>COLOMBIA</td>\n",
              "      <td>No</td>\n",
              "      <td>NaN</td>\n",
              "      <td>...</td>\n",
              "      <td>35</td>\n",
              "      <td>8</td>\n",
              "      <td>A-</td>\n",
              "      <td>187</td>\n",
              "      <td>7</td>\n",
              "      <td>48.012666</td>\n",
              "      <td>NSE2</td>\n",
              "      <td>2.0</td>\n",
              "      <td>PUBLICAR</td>\n",
              "      <td>NO</td>\n",
              "    </tr>\n",
              "    <tr>\n",
              "      <th>4</th>\n",
              "      <td>TI</td>\n",
              "      <td>COLOMBIA</td>\n",
              "      <td>F</td>\n",
              "      <td>21/01/2001</td>\n",
              "      <td>20172</td>\n",
              "      <td>SB11201720412450</td>\n",
              "      <td>ESTUDIANTE</td>\n",
              "      <td>COLOMBIA</td>\n",
              "      <td>No</td>\n",
              "      <td>NaN</td>\n",
              "      <td>...</td>\n",
              "      <td>55</td>\n",
              "      <td>73</td>\n",
              "      <td>A1</td>\n",
              "      <td>232</td>\n",
              "      <td>35</td>\n",
              "      <td>45.256781</td>\n",
              "      <td>NSE2</td>\n",
              "      <td>2.0</td>\n",
              "      <td>PUBLICAR</td>\n",
              "      <td>NO</td>\n",
              "    </tr>\n",
              "  </tbody>\n",
              "</table>\n",
              "<p>5 rows × 82 columns</p>\n",
              "</div>\n",
              "      <button class=\"colab-df-convert\" onclick=\"convertToInteractive('df-15318766-046f-4628-95ff-c493bcc39395')\"\n",
              "              title=\"Convert this dataframe to an interactive table.\"\n",
              "              style=\"display:none;\">\n",
              "        \n",
              "  <svg xmlns=\"http://www.w3.org/2000/svg\" height=\"24px\"viewBox=\"0 0 24 24\"\n",
              "       width=\"24px\">\n",
              "    <path d=\"M0 0h24v24H0V0z\" fill=\"none\"/>\n",
              "    <path d=\"M18.56 5.44l.94 2.06.94-2.06 2.06-.94-2.06-.94-.94-2.06-.94 2.06-2.06.94zm-11 1L8.5 8.5l.94-2.06 2.06-.94-2.06-.94L8.5 2.5l-.94 2.06-2.06.94zm10 10l.94 2.06.94-2.06 2.06-.94-2.06-.94-.94-2.06-.94 2.06-2.06.94z\"/><path d=\"M17.41 7.96l-1.37-1.37c-.4-.4-.92-.59-1.43-.59-.52 0-1.04.2-1.43.59L10.3 9.45l-7.72 7.72c-.78.78-.78 2.05 0 2.83L4 21.41c.39.39.9.59 1.41.59.51 0 1.02-.2 1.41-.59l7.78-7.78 2.81-2.81c.8-.78.8-2.07 0-2.86zM5.41 20L4 18.59l7.72-7.72 1.47 1.35L5.41 20z\"/>\n",
              "  </svg>\n",
              "      </button>\n",
              "      \n",
              "  <style>\n",
              "    .colab-df-container {\n",
              "      display:flex;\n",
              "      flex-wrap:wrap;\n",
              "      gap: 12px;\n",
              "    }\n",
              "\n",
              "    .colab-df-convert {\n",
              "      background-color: #E8F0FE;\n",
              "      border: none;\n",
              "      border-radius: 50%;\n",
              "      cursor: pointer;\n",
              "      display: none;\n",
              "      fill: #1967D2;\n",
              "      height: 32px;\n",
              "      padding: 0 0 0 0;\n",
              "      width: 32px;\n",
              "    }\n",
              "\n",
              "    .colab-df-convert:hover {\n",
              "      background-color: #E2EBFA;\n",
              "      box-shadow: 0px 1px 2px rgba(60, 64, 67, 0.3), 0px 1px 3px 1px rgba(60, 64, 67, 0.15);\n",
              "      fill: #174EA6;\n",
              "    }\n",
              "\n",
              "    [theme=dark] .colab-df-convert {\n",
              "      background-color: #3B4455;\n",
              "      fill: #D2E3FC;\n",
              "    }\n",
              "\n",
              "    [theme=dark] .colab-df-convert:hover {\n",
              "      background-color: #434B5C;\n",
              "      box-shadow: 0px 1px 3px 1px rgba(0, 0, 0, 0.15);\n",
              "      filter: drop-shadow(0px 1px 2px rgba(0, 0, 0, 0.3));\n",
              "      fill: #FFFFFF;\n",
              "    }\n",
              "  </style>\n",
              "\n",
              "      <script>\n",
              "        const buttonEl =\n",
              "          document.querySelector('#df-15318766-046f-4628-95ff-c493bcc39395 button.colab-df-convert');\n",
              "        buttonEl.style.display =\n",
              "          google.colab.kernel.accessAllowed ? 'block' : 'none';\n",
              "\n",
              "        async function convertToInteractive(key) {\n",
              "          const element = document.querySelector('#df-15318766-046f-4628-95ff-c493bcc39395');\n",
              "          const dataTable =\n",
              "            await google.colab.kernel.invokeFunction('convertToInteractive',\n",
              "                                                     [key], {});\n",
              "          if (!dataTable) return;\n",
              "\n",
              "          const docLinkHtml = 'Like what you see? Visit the ' +\n",
              "            '<a target=\"_blank\" href=https://colab.research.google.com/notebooks/data_table.ipynb>data table notebook</a>'\n",
              "            + ' to learn more about interactive tables.';\n",
              "          element.innerHTML = '';\n",
              "          dataTable['output_type'] = 'display_data';\n",
              "          await google.colab.output.renderOutput(dataTable, element);\n",
              "          const docLink = document.createElement('div');\n",
              "          docLink.innerHTML = docLinkHtml;\n",
              "          element.appendChild(docLink);\n",
              "        }\n",
              "      </script>\n",
              "    </div>\n",
              "  </div>\n",
              "  "
            ]
          },
          "metadata": {},
          "execution_count": 4
        }
      ]
    },
    {
      "cell_type": "code",
      "source": [
        "df = df[df['ESTU_PAIS_RESIDE'] == 'COLOMBIA']\n",
        "df = df[(df['FAMI_EDUCACIONMADRE'].isna() == False) & (df['FAMI_EDUCACIONMADRE'] != 'No Aplica') & (df['FAMI_EDUCACIONMADRE'] != 'No sabe')]\n",
        "df = df[(df['FAMI_EDUCACIONPADRE'].isna() == False) & (df['FAMI_EDUCACIONPADRE'] != 'No Aplica') & (df['FAMI_EDUCACIONPADRE'] != 'No sabe')]\n",
        "df = df[df['FAMI_NUMLIBROS'].isna() == False]\n",
        "df = df[df['FAMI_ESTRATOVIVIENDA'].isna() == False]\n",
        "df = df[df['FAMI_TIENECOMPUTADOR'].isna() == False]\n",
        "df = df[df['ESTU_COD_RESIDE_DEPTO'].isna() == False]\n",
        "df = df[df['ESTU_COD_RESIDE_MCPIO'].isna() == False]\n",
        "df = df[df['FAMI_TIENEINTERNET'].isna() == False]\n",
        "df = df[(df['COLE_CARACTER'] != 'NO APLICA') & (df['COLE_CARACTER'].isna() == False)]"
      ],
      "metadata": {
        "id": "BsETK264r5gN"
      },
      "execution_count": null,
      "outputs": []
    },
    {
      "cell_type": "code",
      "source": [
        "def cambiar_numeducacion(valor):\n",
        "  if valor == 'Ninguno':\n",
        "    return 0\n",
        "  elif valor == 'Primaria incompleta':\n",
        "    return 1\n",
        "  elif valor == 'Primaria completa':\n",
        "    return 2\n",
        "  elif valor == 'Secundaria (Bachillerato) incompleta':\n",
        "    return 3\n",
        "  elif valor == 'Secundaria (Bachillerato) completa':\n",
        "    return 4\n",
        "  elif valor == 'Técnica o tecnológica incompleta':\n",
        "    return 5\n",
        "  elif valor == 'Técnica o tecnológica completa':\n",
        "    return 6\n",
        "  elif valor == 'Educación profesional incompleta':\n",
        "    return 7\n",
        "  elif valor == 'Educación profesional completa':\n",
        "    return 8\n",
        "  elif valor == 'Postgrado':\n",
        "    return 9\n",
        "\n",
        "def cambiar_numlibros(valor):\n",
        "  if valor == '0 A 10 LIBROS':\n",
        "    return 0\n",
        "  elif valor == '11 A 25 LIBROS':\n",
        "    return 1\n",
        "  elif valor == '26 A 100 LIBROS':\n",
        "    return 2\n",
        "  elif valor == 'MÁS DE 100 LIBROS':\n",
        "    return 3\n",
        "\n",
        "def cambiar_valor_binario(valor):\n",
        "  if valor == 'Si' or valor == 'S':\n",
        "    return 1\n",
        "  else:\n",
        "    return 0\n",
        "\n",
        "def cambiar_estratoNum(valor):\n",
        "  if valor == 'Sin Estrato':\n",
        "    return 0\n",
        "  elif valor == 'Estrato 1':\n",
        "    return 1\n",
        "  elif valor == 'Estrato 2':\n",
        "    return 2\n",
        "  elif valor == 'Estrato 3':\n",
        "    return 3\n",
        "  elif valor == 'Estrato 4':\n",
        "    return 4\n",
        "  elif valor == 'Estrato 5':\n",
        "    return 5\n",
        "  elif valor == 'Estrato 6':\n",
        "    return 6\n",
        "\n",
        "\n",
        "def cambiar_tcolegio_num(valor):\n",
        "  if valor == 'ACADÉMICO':\n",
        "    return 0\n",
        "  elif valor == 'TÉCNICO/ACADÉMICO':\n",
        "    return 1\n",
        "  elif valor == 'TÉCNICO':\n",
        "    return 2"
      ],
      "metadata": {
        "id": "3_rLI6zOvD5d"
      },
      "execution_count": null,
      "outputs": []
    },
    {
      "cell_type": "code",
      "source": [
        "df['FAMI_EDUCACIONMADRE'] = df['FAMI_EDUCACIONMADRE'].apply(cambiar_numeducacion)\n",
        "df['FAMI_EDUCACIONPADRE'] = df['FAMI_EDUCACIONPADRE'].apply(cambiar_numeducacion)\n",
        "df['FAMI_ESTRATOVIVIENDA'] = df['FAMI_ESTRATOVIVIENDA'].apply(cambiar_estratoNum)\n",
        "df['FAMI_NUMLIBROS'] = df['FAMI_NUMLIBROS'].apply(cambiar_numlibros)\n",
        "df['FAMI_TIENEINTERNET'] = df['FAMI_TIENEINTERNET'].apply(cambiar_valor_binario)\n",
        "df['FAMI_TIENECOMPUTADOR'] = df['FAMI_TIENECOMPUTADOR'].apply(cambiar_valor_binario)\n",
        "df['COLE_CARACTER']  = df['COLE_CARACTER'].apply(cambiar_tcolegio_num)\n",
        "df.reset_index(inplace=True)"
      ],
      "metadata": {
        "id": "Nqaj5WrJsOJh"
      },
      "execution_count": null,
      "outputs": []
    },
    {
      "cell_type": "code",
      "source": [
        "sb.factorplot('PUNT_GLOBAL',data = df , kind=\"count\", aspect=3)"
      ],
      "metadata": {
        "colab": {
          "base_uri": "https://localhost:8080/",
          "height": 476
        },
        "id": "FQzrZ2LhK60t",
        "outputId": "4b678c8c-ac2c-4417-b933-640932f1466e"
      },
      "execution_count": null,
      "outputs": [
        {
          "output_type": "stream",
          "name": "stderr",
          "text": [
            "/usr/local/lib/python3.7/dist-packages/seaborn/categorical.py:3717: UserWarning: The `factorplot` function has been renamed to `catplot`. The original name will be removed in a future release. Please update your code. Note that the default `kind` in `factorplot` (`'point'`) has changed `'strip'` in `catplot`.\n",
            "  warnings.warn(msg)\n",
            "/usr/local/lib/python3.7/dist-packages/seaborn/_decorators.py:43: FutureWarning: Pass the following variable as a keyword arg: x. From version 0.12, the only valid positional argument will be `data`, and passing other arguments without an explicit keyword will result in an error or misinterpretation.\n",
            "  FutureWarning\n"
          ]
        },
        {
          "output_type": "execute_result",
          "data": {
            "text/plain": [
              "<seaborn.axisgrid.FacetGrid at 0x7f05ef0b51d0>"
            ]
          },
          "metadata": {},
          "execution_count": 9
        },
        {
          "output_type": "display_data",
          "data": {
            "text/plain": [
              "<Figure size 1080x360 with 1 Axes>"
            ],
            "image/png": "[encoded data removed]"
          },
          "metadata": {
            "needs_background": "light"
          }
        }
      ]
    },
    {
      "cell_type": "code",
      "source": [
        "puntaje_promedio = df['PUNT_GLOBAL'].mean()\n",
        "desviacion = df['PUNT_GLOBAL'].std()\n",
        "print (f'Puntaje promedio={puntaje_promedio}, desviación={desviacion}')\n",
        "\n",
        "def cambiar_puntaje_rango(valor):\n",
        "  if valor <= (puntaje_promedio - 2 * desviacion):\n",
        "    return 0\n",
        "  elif valor <= (puntaje_promedio - desviacion):\n",
        "    return 1\n",
        "  elif valor <= (puntaje_promedio + desviacion):\n",
        "    return 2\n",
        "  elif valor <= (puntaje_promedio + 2 * desviacion):\n",
        "    return 3\n",
        "  else:\n",
        "    return 4"
      ],
      "metadata": {
        "colab": {
          "base_uri": "https://localhost:8080/"
        },
        "id": "NezIVBKTGr24",
        "outputId": "ef7d7fd3-9c48-46c6-dc3f-712f92bb4853"
      },
      "execution_count": null,
      "outputs": [
        {
          "output_type": "stream",
          "name": "stdout",
          "text": [
            "Puntaje promedio=257.2652280499721, desviación=48.001539493137834\n"
          ]
        }
      ]
    },
    {
      "cell_type": "code",
      "source": [
        "df['PUNTAJE_RANGO'] = df['PUNT_GLOBAL'].apply(cambiar_puntaje_rango)\n",
        "print(f'0<={puntaje_promedio - 2 * desviacion}\\n 1<={puntaje_promedio - desviacion}\\n 2<={puntaje_promedio + desviacion}\\n 3<={puntaje_promedio + 2 * desviacion}\\n')\n",
        "df[['PUNT_GLOBAL','PUNTAJE_RANGO']]"
      ],
      "metadata": {
        "colab": {
          "base_uri": "https://localhost:8080/",
          "height": 510
        },
        "id": "RO0W9fb-JEVm",
        "outputId": "6b4cc7fe-9339-40f8-bf31-903df50fdde5"
      },
      "execution_count": null,
      "outputs": [
        {
          "output_type": "stream",
          "name": "stdout",
          "text": [
            "0<=161.26214906369643\n",
            " 1<=209.26368855683427\n",
            " 2<=305.26676754310995\n",
            " 3<=353.2683070362478\n",
            "\n"
          ]
        },
        {
          "output_type": "execute_result",
          "data": {
            "text/plain": [
              "        PUNT_GLOBAL  PUNTAJE_RANGO\n",
              "0               278              2\n",
              "1               287              2\n",
              "2               244              2\n",
              "3               187              1\n",
              "4               232              2\n",
              "...             ...            ...\n",
              "458491          203              1\n",
              "458492          143              0\n",
              "458493          178              1\n",
              "458494          295              2\n",
              "458495          251              2\n",
              "\n",
              "[458496 rows x 2 columns]"
            ],
            "text/html": [
              "\n",
              "  <div id=\"df-4b043cfd-2428-41ff-8ed2-fcc559180d7e\">\n",
              "    <div class=\"colab-df-container\">\n",
              "      <div>\n",
              "<style scoped>\n",
              "    .dataframe tbody tr th:only-of-type {\n",
              "        vertical-align: middle;\n",
              "    }\n",
              "\n",
              "    .dataframe tbody tr th {\n",
              "        vertical-align: top;\n",
              "    }\n",
              "\n",
              "    .dataframe thead th {\n",
              "        text-align: right;\n",
              "    }\n",
              "</style>\n",
              "<table border=\"1\" class=\"dataframe\">\n",
              "  <thead>\n",
              "    <tr style=\"text-align: right;\">\n",
              "      <th></th>\n",
              "      <th>PUNT_GLOBAL</th>\n",
              "      <th>PUNTAJE_RANGO</th>\n",
              "    </tr>\n",
              "  </thead>\n",
              "  <tbody>\n",
              "    <tr>\n",
              "      <th>0</th>\n",
              "      <td>278</td>\n",
              "      <td>2</td>\n",
              "    </tr>\n",
              "    <tr>\n",
              "      <th>1</th>\n",
              "      <td>287</td>\n",
              "      <td>2</td>\n",
              "    </tr>\n",
              "    <tr>\n",
              "      <th>2</th>\n",
              "      <td>244</td>\n",
              "      <td>2</td>\n",
              "    </tr>\n",
              "    <tr>\n",
              "      <th>3</th>\n",
              "      <td>187</td>\n",
              "      <td>1</td>\n",
              "    </tr>\n",
              "    <tr>\n",
              "      <th>4</th>\n",
              "      <td>232</td>\n",
              "      <td>2</td>\n",
              "    </tr>\n",
              "    <tr>\n",
              "      <th>...</th>\n",
              "      <td>...</td>\n",
              "      <td>...</td>\n",
              "    </tr>\n",
              "    <tr>\n",
              "      <th>458491</th>\n",
              "      <td>203</td>\n",
              "      <td>1</td>\n",
              "    </tr>\n",
              "    <tr>\n",
              "      <th>458492</th>\n",
              "      <td>143</td>\n",
              "      <td>0</td>\n",
              "    </tr>\n",
              "    <tr>\n",
              "      <th>458493</th>\n",
              "      <td>178</td>\n",
              "      <td>1</td>\n",
              "    </tr>\n",
              "    <tr>\n",
              "      <th>458494</th>\n",
              "      <td>295</td>\n",
              "      <td>2</td>\n",
              "    </tr>\n",
              "    <tr>\n",
              "      <th>458495</th>\n",
              "      <td>251</td>\n",
              "      <td>2</td>\n",
              "    </tr>\n",
              "  </tbody>\n",
              "</table>\n",
              "<p>458496 rows × 2 columns</p>\n",
              "</div>\n",
              "      <button class=\"colab-df-convert\" onclick=\"convertToInteractive('df-4b043cfd-2428-41ff-8ed2-fcc559180d7e')\"\n",
              "              title=\"Convert this dataframe to an interactive table.\"\n",
              "              style=\"display:none;\">\n",
              "        \n",
              "  <svg xmlns=\"http://www.w3.org/2000/svg\" height=\"24px\"viewBox=\"0 0 24 24\"\n",
              "       width=\"24px\">\n",
              "    <path d=\"M0 0h24v24H0V0z\" fill=\"none\"/>\n",
              "    <path d=\"M18.56 5.44l.94 2.06.94-2.06 2.06-.94-2.06-.94-.94-2.06-.94 2.06-2.06.94zm-11 1L8.5 8.5l.94-2.06 2.06-.94-2.06-.94L8.5 2.5l-.94 2.06-2.06.94zm10 10l.94 2.06.94-2.06 2.06-.94-2.06-.94-.94-2.06-.94 2.06-2.06.94z\"/><path d=\"M17.41 7.96l-1.37-1.37c-.4-.4-.92-.59-1.43-.59-.52 0-1.04.2-1.43.59L10.3 9.45l-7.72 7.72c-.78.78-.78 2.05 0 2.83L4 21.41c.39.39.9.59 1.41.59.51 0 1.02-.2 1.41-.59l7.78-7.78 2.81-2.81c.8-.78.8-2.07 0-2.86zM5.41 20L4 18.59l7.72-7.72 1.47 1.35L5.41 20z\"/>\n",
              "  </svg>\n",
              "      </button>\n",
              "      \n",
              "  <style>\n",
              "    .colab-df-container {\n",
              "      display:flex;\n",
              "      flex-wrap:wrap;\n",
              "      gap: 12px;\n",
              "    }\n",
              "\n",
              "    .colab-df-convert {\n",
              "      background-color: #E8F0FE;\n",
              "      border: none;\n",
              "      border-radius: 50%;\n",
              "      cursor: pointer;\n",
              "      display: none;\n",
              "      fill: #1967D2;\n",
              "      height: 32px;\n",
              "      padding: 0 0 0 0;\n",
              "      width: 32px;\n",
              "    }\n",
              "\n",
              "    .colab-df-convert:hover {\n",
              "      background-color: #E2EBFA;\n",
              "      box-shadow: 0px 1px 2px rgba(60, 64, 67, 0.3), 0px 1px 3px 1px rgba(60, 64, 67, 0.15);\n",
              "      fill: #174EA6;\n",
              "    }\n",
              "\n",
              "    [theme=dark] .colab-df-convert {\n",
              "      background-color: #3B4455;\n",
              "      fill: #D2E3FC;\n",
              "    }\n",
              "\n",
              "    [theme=dark] .colab-df-convert:hover {\n",
              "      background-color: #434B5C;\n",
              "      box-shadow: 0px 1px 3px 1px rgba(0, 0, 0, 0.15);\n",
              "      filter: drop-shadow(0px 1px 2px rgba(0, 0, 0, 0.3));\n",
              "      fill: #FFFFFF;\n",
              "    }\n",
              "  </style>\n",
              "\n",
              "      <script>\n",
              "        const buttonEl =\n",
              "          document.querySelector('#df-4b043cfd-2428-41ff-8ed2-fcc559180d7e button.colab-df-convert');\n",
              "        buttonEl.style.display =\n",
              "          google.colab.kernel.accessAllowed ? 'block' : 'none';\n",
              "\n",
              "        async function convertToInteractive(key) {\n",
              "          const element = document.querySelector('#df-4b043cfd-2428-41ff-8ed2-fcc559180d7e');\n",
              "          const dataTable =\n",
              "            await google.colab.kernel.invokeFunction('convertToInteractive',\n",
              "                                                     [key], {});\n",
              "          if (!dataTable) return;\n",
              "\n",
              "          const docLinkHtml = 'Like what you see? Visit the ' +\n",
              "            '<a target=\"_blank\" href=https://colab.research.google.com/notebooks/data_table.ipynb>data table notebook</a>'\n",
              "            + ' to learn more about interactive tables.';\n",
              "          element.innerHTML = '';\n",
              "          dataTable['output_type'] = 'display_data';\n",
              "          await google.colab.output.renderOutput(dataTable, element);\n",
              "          const docLink = document.createElement('div');\n",
              "          docLink.innerHTML = docLinkHtml;\n",
              "          element.appendChild(docLink);\n",
              "        }\n",
              "      </script>\n",
              "    </div>\n",
              "  </div>\n",
              "  "
            ]
          },
          "metadata": {},
          "execution_count": 82
        }
      ]
    },
    {
      "cell_type": "code",
      "source": [
        "df.shape"
      ],
      "metadata": {
        "colab": {
          "base_uri": "https://localhost:8080/"
        },
        "id": "Vu0D4dPSpl3N",
        "outputId": "b7f6e1be-3b52-44d5-8b45-51a980150a7d"
      },
      "execution_count": null,
      "outputs": [
        {
          "output_type": "execute_result",
          "data": {
            "text/plain": [
              "(458496, 83)"
            ]
          },
          "metadata": {},
          "execution_count": 74
        }
      ]
    },
    {
      "cell_type": "code",
      "source": [
        "y  = df[['PUNTAJE_RANGO']].iloc[:420000,:].values\n",
        "y_pred = df[['PUNTAJE_RANGO']].iloc[420000:,:].values\n",
        "x = df[['ESTU_COD_RESIDE_DEPTO', 'ESTU_COD_RESIDE_MCPIO','FAMI_EDUCACIONPADRE','\n",
        "FAMI_EDUCACIONMADRE','FAMI_ESTRATOVIVIENDA','FAMI_NUMLIBROS', 'FAMI_TIENEINTERNET', \n",
        "'FAMI_TIENECOMPUTADOR', 'COLE_CARACTER']].iloc[:420000,:].values\n",
        "x_pred = df[['ESTU_COD_RESIDE_DEPTO', 'ESTU_COD_RESIDE_MCPIO','FAMI_EDUCACIONPADRE','\n",
        "FAMI_EDUCACIONMADRE','FAMI_ESTRATOVIVIENDA','FAMI_NUMLIBROS', 'FAMI_TIENEINTERNET', \n",
        "'FAMI_TIENECOMPUTADOR', 'COLE_CARACTER']].iloc[420000:,:].values"
      ],
      "metadata": {
        "id": "3ZpPeadY2AcZ"
      },
      "execution_count": null,
      "outputs": []
    },
    {
      "cell_type": "code",
      "source": [
        "X_train, X_test, y_train, y_test = train_test_split(x,y, random_state = 0)\n",
        "scaler  = MinMaxScaler()\n",
        "X_train = scaler.fit_transform(X_train)\n",
        "X_test  = scaler.transform(X_test)\n",
        "X_pred = scaler.transform(x_pred)"
      ],
      "metadata": {
        "id": "3k5NcZuzwRT2"
      },
      "execution_count": null,
      "outputs": []
    },
    {
      "cell_type": "markdown",
      "source": [
        "##K Vecinos"
      ],
      "metadata": {
        "id": "4l85zuSqJrzV"
      }
    },
    {
      "cell_type": "code",
      "source": [
        "n_neighbors = 9\n",
        "knn = KNeighborsClassifier(n_neighbors)\n",
        "knn.fit(X_train,y_train)"
      ],
      "metadata": {
        "id": "o12_1UQx3xBr",
        "colab": {
          "base_uri": "https://localhost:8080/"
        },
        "outputId": "6f071bf6-97c8-4b63-9af0-e2405996d8d3"
      },
      "execution_count": null,
      "outputs": [
        {
          "output_type": "stream",
          "name": "stderr",
          "text": [
            "/usr/local/lib/python3.7/dist-packages/sklearn/neighbors/_classification.py:198: DataConversionWarning: A column-vector y was passed when a 1d array was expected. Please change the shape of y to (n_samples,), for example using ravel().\n",
            "  return self._fit(X, y)\n"
          ]
        },
        {
          "output_type": "execute_result",
          "data": {
            "text/plain": [
              "KNeighborsClassifier(n_neighbors=9)"
            ]
          },
          "metadata": {},
          "execution_count": 97
        }
      ]
    },
    {
      "cell_type": "code",
      "source": [
        "print('Accuracy of K-NN classifier on  training set: {:.2f}'.format(knn.score(X_train, y_train)))\n",
        "print('Accuracy of K-NN classifier on  test set: {:.2f}'.format(knn.score(X_test, y_test)))\n",
        "\n",
        "pred = knn.predict(X_test)\n",
        "print(confusion_matrix(y_test,pred))\n",
        "print(classification_report(y_test,pred))"
      ],
      "metadata": {
        "id": "KXQKNbpq_5Fs",
        "colab": {
          "base_uri": "https://localhost:8080/"
        },
        "outputId": "6556e5c5-0212-4bcc-a749-fde1a71f17b1"
      },
      "execution_count": null,
      "outputs": [
        {
          "output_type": "stream",
          "name": "stdout",
          "text": [
            "Accuracy of K-NN classifier on  training set: 0.68\n",
            "Accuracy of K-NN classifier on  test set: 0.63\n",
            "[[    0   116   443    11     0]\n",
            " [    0  2514 15423   232     3]\n",
            " [    1  4201 61493  2684   133]\n",
            " [    0   327 12415  2036   270]\n",
            " [    0    30  1735   736   197]]\n",
            "              precision    recall  f1-score   support\n",
            "\n",
            "           0       0.00      0.00      0.00       570\n",
            "           1       0.35      0.14      0.20     18172\n",
            "           2       0.67      0.90      0.77     68512\n",
            "           3       0.36      0.14      0.20     15048\n",
            "           4       0.33      0.07      0.12      2698\n",
            "\n",
            "    accuracy                           0.63    105000\n",
            "   macro avg       0.34      0.25      0.26    105000\n",
            "weighted avg       0.56      0.63      0.57    105000\n",
            "\n"
          ]
        }
      ]
    },
    {
      "cell_type": "markdown",
      "source": [
        "## K Means"
      ],
      "metadata": {
        "id": "LOxQkYEeG248"
      }
    },
    {
      "cell_type": "code",
      "source": [
        "Nc = range(1, 20)\n",
        "kmeans = [KMeans(n_clusters=i) for i in Nc]\n",
        "kmeans"
      ],
      "metadata": {
        "colab": {
          "base_uri": "https://localhost:8080/"
        },
        "id": "b_WPunzXG58P",
        "outputId": "7aac2b03-4c56-4d22-f50e-9c3aae633bd8"
      },
      "execution_count": null,
      "outputs": [
        {
          "output_type": "execute_result",
          "data": {
            "text/plain": [
              "[KMeans(n_clusters=1),\n",
              " KMeans(n_clusters=2),\n",
              " KMeans(n_clusters=3),\n",
              " KMeans(n_clusters=4),\n",
              " KMeans(n_clusters=5),\n",
              " KMeans(n_clusters=6),\n",
              " KMeans(n_clusters=7),\n",
              " KMeans(),\n",
              " KMeans(n_clusters=9),\n",
              " KMeans(n_clusters=10),\n",
              " KMeans(n_clusters=11),\n",
              " KMeans(n_clusters=12),\n",
              " KMeans(n_clusters=13),\n",
              " KMeans(n_clusters=14),\n",
              " KMeans(n_clusters=15),\n",
              " KMeans(n_clusters=16),\n",
              " KMeans(n_clusters=17),\n",
              " KMeans(n_clusters=18),\n",
              " KMeans(n_clusters=19)]"
            ]
          },
          "metadata": {},
          "execution_count": 99
        }
      ]
    },
    {
      "cell_type": "code",
      "source": [
        "score=[kmeans[i].fit(x).score(x) for i in range(len(kmeans))]\n",
        "score"
      ],
      "metadata": {
        "colab": {
          "base_uri": "https://localhost:8080/"
        },
        "id": "NBYKxhZBLjFL",
        "outputId": "5293616c-3a57-4448-ca4b-0c430b226f44"
      },
      "execution_count": null,
      "outputs": [
        {
          "output_type": "execute_result",
          "data": {
            "text/plain": [
              "[-290411754427511.25,\n",
              " -41495481386042.42,\n",
              " -17763627487780.113,\n",
              " -8382936518045.5,\n",
              " -5884966279143.777,\n",
              " -4245425821706.5083,\n",
              " -3072626984120.9844,\n",
              " -2010724639186.2415,\n",
              " -1323367726661.2805,\n",
              " -1120792921654.4072,\n",
              " -963884446545.2632,\n",
              " -804949271692.4778,\n",
              " -639491988656.7576,\n",
              " -508001417977.58997,\n",
              " -408377536212.5563,\n",
              " -351437499278.6726,\n",
              " -299808846632.0029,\n",
              " -253773237261.17932,\n",
              " -223585669891.6585]"
            ]
          },
          "metadata": {},
          "execution_count": 100
        }
      ]
    },
    {
      "cell_type": "code",
      "source": [
        "plt.plot(Nc,score)\n",
        "plt.xlabel('Number of clusters')\n",
        "plt.ylabel('score')\n",
        "plt.title('Elbow Curve')\n",
        "plt.show()"
      ],
      "metadata": {
        "colab": {
          "base_uri": "https://localhost:8080/",
          "height": 295
        },
        "id": "vR7U2-X5LRph",
        "outputId": "a5465222-26b6-42e1-d762-cd17b4b25a43"
      },
      "execution_count": null,
      "outputs": [
        {
          "output_type": "display_data",
          "data": {
            "text/plain": [
              "<Figure size 432x288 with 1 Axes>"
            ],
            "image/png": "[encoded data removed]"
          },
          "metadata": {
            "needs_background": "light"
          }
        }
      ]
    },
    {
      "cell_type": "code",
      "source": [
        "kmeans = KMeans(n_clusters=4).fit(x)\n",
        "centroids = kmeans.cluster_centers_\n",
        "print(centroids)"
      ],
      "metadata": {
        "colab": {
          "base_uri": "https://localhost:8080/"
        },
        "id": "zWMbG_roN_r4",
        "outputId": "5c27fd66-eefc-4be3-9d43-a286bef1e080"
      },
      "execution_count": null,
      "outputs": [
        {
          "output_type": "stream",
          "name": "stdout",
          "text": [
            "[[9.27736373e+00 9.43881416e+03 3.78851535e+00 4.10596397e+00\n",
            "  2.19857370e+00 1.04056697e+00 6.85992453e-01 6.82235533e-01\n",
            "  4.38124422e-01]\n",
            " [7.52723571e+01 7.34441865e+04 3.32841355e+00 3.63441285e+00\n",
            "  1.90674921e+00 8.43494879e-01 5.44724652e-01 5.75822099e-01\n",
            "  7.79731611e-01]\n",
            " [4.83743867e+01 4.86454678e+04 3.17326564e+00 3.51057388e+00\n",
            "  1.69829514e+00 8.26516987e-01 4.27768462e-01 4.90450904e-01\n",
            "  6.72007950e-01]\n",
            " [2.21423825e+01 2.25134931e+04 3.21066315e+00 3.51702578e+00\n",
            "  1.78187975e+00 8.41232197e-01 4.35644443e-01 5.02986646e-01\n",
            "  5.12434845e-01]]\n"
          ]
        }
      ]
    },
    {
      "cell_type": "code",
      "source": [
        "labels = kmeans.predict(x)\n",
        "C = kmeans.cluster_centers_\n",
        "colores=['red','green','blue','yellow']\n",
        "asignar=[]\n",
        "for row in labels:\n",
        "    asignar.append(colores[row])\n",
        " \n",
        "fig = plt.figure()\n",
        "ax = Axes3D(fig)\n",
        "'''ax.scatter(x[:, 0], x[:, 1], x[:, 2], c=asignar,s=60)\n",
        "ax.scatter(C[:, 0], C[:, 1], C[:, 2], marker='*', c=colores, s=1000)'''\n",
        "\n",
        "f1 = df['PUNT_GLOBAL'].iloc[:420000].values\n",
        "f2 = df['ESTU_COD_RESIDE_MCPIO'].iloc[:420000].values\n",
        " \n",
        "plt.scatter(f1, f2, c=asignar, s=70)\n",
        "plt.scatter(C[:, 0], C[:, 1], marker='*', c=colores, s=1000)\n",
        "plt.show()"
      ],
      "metadata": {
        "colab": {
          "base_uri": "https://localhost:8080/",
          "height": 319
        },
        "id": "QEYoAf_yM4UA",
        "outputId": "6994c018-5c0e-4004-b136-810e224be0fd"
      },
      "execution_count": null,
      "outputs": [
        {
          "output_type": "display_data",
          "data": {
            "text/plain": [
              "<Figure size 432x288 with 1 Axes>"
            ],
            "image/png": "[encoded data removed]"
          },
          "metadata": {
            "needs_background": "light"
          }
        }
      ]
    },
    {
      "cell_type": "markdown",
      "source": [
        "## Redes Neuronales"
      ],
      "metadata": {
        "id": "LPJWq43hZK4w"
      }
    },
    {
      "cell_type": "code",
      "source": [
        "inputSX = x[1].shape\n",
        "targetSY = y[1].shape\n",
        "\n",
        "targetY = functools.reduce(lambda sub, ele: sub*10+ele,targetSY)\n",
        "inputX= functools.reduce(lambda sub, ele: sub*10+ele, inputSX)"
      ],
      "metadata": {
        "id": "a4-Yafd_ZKhJ"
      },
      "execution_count": null,
      "outputs": []
    },
    {
      "cell_type": "code",
      "source": [
        "model = Sequential()\n",
        "model.add(Dense(150, input_shape=(inputX,)))\n",
        "model.add(Dense(targetY))"
      ],
      "metadata": {
        "id": "aOq4eq5jav2A"
      },
      "execution_count": null,
      "outputs": []
    },
    {
      "cell_type": "code",
      "source": [
        "model.compile(loss='categorical_crossentropy', optimizer = 'adam', metrics = [\"categorical_accuracy\"])"
      ],
      "metadata": {
        "id": "wCGfeDmJcOjC"
      },
      "execution_count": null,
      "outputs": []
    },
    {
      "cell_type": "code",
      "source": [
        "model.fit(X_train, y_train, epochs=10)"
      ],
      "metadata": {
        "colab": {
          "base_uri": "https://localhost:8080/"
        },
        "id": "GdRzQ7QIcnlZ",
        "outputId": "b68db881-d29c-479d-a8c3-35161626d373"
      },
      "execution_count": null,
      "outputs": [
        {
          "output_type": "stream",
          "name": "stdout",
          "text": [
            "Epoch 1/10\n",
            "9844/9844 [==============================] - 20s 2ms/step - loss: 2.4047e-07 - categorical_accuracy: 1.0000\n",
            "Epoch 2/10\n",
            "9844/9844 [==============================] - 19s 2ms/step - loss: 2.4047e-07 - categorical_accuracy: 1.0000\n",
            "Epoch 3/10\n",
            "9844/9844 [==============================] - 19s 2ms/step - loss: 2.4047e-07 - categorical_accuracy: 1.0000\n",
            "Epoch 4/10\n",
            "9844/9844 [==============================] - 18s 2ms/step - loss: 2.4047e-07 - categorical_accuracy: 1.0000\n",
            "Epoch 5/10\n",
            "9844/9844 [==============================] - 18s 2ms/step - loss: 2.4047e-07 - categorical_accuracy: 1.0000\n",
            "Epoch 6/10\n",
            "9844/9844 [==============================] - 19s 2ms/step - loss: 2.4047e-07 - categorical_accuracy: 1.0000\n",
            "Epoch 7/10\n",
            "9844/9844 [==============================] - 19s 2ms/step - loss: 2.4047e-07 - categorical_accuracy: 1.0000\n",
            "Epoch 8/10\n",
            "9844/9844 [==============================] - 19s 2ms/step - loss: 2.4047e-07 - categorical_accuracy: 1.0000\n",
            "Epoch 9/10\n",
            "9844/9844 [==============================] - 19s 2ms/step - loss: 2.4047e-07 - categorical_accuracy: 1.0000\n",
            "Epoch 10/10\n",
            "9844/9844 [==============================] - 19s 2ms/step - loss: 2.4047e-07 - categorical_accuracy: 1.0000\n"
          ]
        },
        {
          "output_type": "execute_result",
          "data": {
            "text/plain": [
              "<keras.callbacks.History at 0x7f05e2513a10>"
            ]
          },
          "metadata": {},
          "execution_count": 130
        }
      ]
    },
    {
      "cell_type": "code",
      "source": [
        "scores = model.evaluate(X_test, y_test)\n",
        "print(\"\\n%s: %.2f%%\" % (model.metrics_names[1],scores[1]*100))"
      ],
      "metadata": {
        "colab": {
          "base_uri": "https://localhost:8080/"
        },
        "id": "gKWXw6eHkmJQ",
        "outputId": "50ad61bf-5c1a-4b28-9eb8-98cc2f1136b6"
      },
      "execution_count": null,
      "outputs": [
        {
          "output_type": "stream",
          "name": "stdout",
          "text": [
            "3282/3282 [==============================] - 6s 2ms/step - loss: nan - categorical_accuracy: 1.0000\n",
            "\n",
            "categorical_accuracy: 100.00%\n"
          ]
        }
      ]
    },
    {
      "cell_type": "code",
      "source": [
        "xp = X_pred[35000].reshape(1, -1)\n",
        "yp = y_pred[35000]\n",
        "pred = knn.predict(xp)\n",
        "print(f'valores{xp} esperado={yp} obtenido={pred}')\n",
        "pred = model.predict(xp).round()\n",
        "print(f'valores{xp} esperado={yp} obtenido={pred}')\n",
        "new_labels = kmeans.predict(xp)\n",
        "print(f'valores{xp} esperado={yp} obtenido={pred}')"
      ],
      "metadata": {
        "colab": {
          "base_uri": "https://localhost:8080/"
        },
        "id": "if7eJSX3lg-u",
        "outputId": "32d8f2ad-c1c9-4b48-b810-2d4a47e780b5"
      },
      "execution_count": null,
      "outputs": [
        {
          "output_type": "stream",
          "name": "stdout",
          "text": [
            "valores[[3.90023401e-04 4.19440409e-01 5.55555556e-01 2.22222222e-01\n",
            "  8.33333333e-01 6.66666667e-01 1.00000000e+00 0.00000000e+00\n",
            "  0.00000000e+00]] esperado=[1] obtenido=[2]\n",
            "valores[[3.90023401e-04 4.19440409e-01 5.55555556e-01 2.22222222e-01\n",
            "  8.33333333e-01 6.66666667e-01 1.00000000e+00 0.00000000e+00\n",
            "  0.00000000e+00]] esperado=[1] obtenido=[[0.]]\n",
            "valores[[3.90023401e-04 4.19440409e-01 5.55555556e-01 2.22222222e-01\n",
            "  8.33333333e-01 6.66666667e-01 1.00000000e+00 0.00000000e+00\n",
            "  0.00000000e+00]] esperado=[1] obtenido=[[0.]]\n"
          ]
        }
      ]
    },
    {
      "cell_type": "markdown",
      "source": [
        "*texto en cursiva*"
      ],
      "metadata": {
        "id": "3F1LcmYmNRKC"
      }
    }
  ]
}